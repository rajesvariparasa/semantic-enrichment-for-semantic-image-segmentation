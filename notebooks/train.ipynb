{
 "cells": [
  {
   "cell_type": "code",
   "execution_count": 1,
   "metadata": {},
   "outputs": [],
   "source": [
    "import os\n",
    "import numpy as np\n",
    "import pandas as pd\n",
    "from torch.utils.data import Dataset, DataLoader\n",
    "import torch\n",
    "from torchsummary import summary\n",
    "\n",
    "import rasterio as rio\n",
    "import matplotlib.pyplot as plt\n",
    "import time\n",
    "from tqdm import tqdm\n",
    "from milesial_unet.unet_model import UNet"
   ]
  },
  {
   "cell_type": "code",
   "execution_count": 1,
   "metadata": {},
   "outputs": [],
   "source": [
    "import os"
   ]
  },
  {
   "cell_type": "code",
   "execution_count": 4,
   "metadata": {},
   "outputs": [
    {
     "data": {
      "text/plain": [
       "('path/to/your', 'data')"
      ]
     },
     "execution_count": 4,
     "metadata": {},
     "output_type": "execute_result"
    }
   ],
   "source": [
    "path = 'path/to/your/data'\n",
    "os.path.split(path)"
   ]
  },
  {
   "cell_type": "code",
   "execution_count": 18,
   "metadata": {},
   "outputs": [
    {
     "name": "stdout",
     "output_type": "stream",
     "text": [
      "{1: (30, 250, 30), 2: (30, 235, 30), 3: (30, 215, 30), 4: (30, 200, 30), 5: (20, 190, 20), 6: (20, 175, 20), 7: (20, 160, 20), 8: (0, 240, 90), 9: (0, 220, 90), 10: (0, 205, 90), 11: (0, 190, 110), 12: (0, 170, 110), 13: (0, 120, 110), 14: (175, 250, 140), 15: (100, 150, 70), 16: (120, 65, 85), 17: (100, 120, 80), 18: (180, 255, 50), 19: (190, 250, 160), 20: (180, 230, 140), 21: (160, 220, 140), 22: (150, 200, 130), 23: (140, 170, 110), 24: (130, 150, 90), 25: (225, 250, 50), 26: (200, 160, 50), 27: (200, 200, 100), 28: (100, 100, 50), 29: (20, 75, 70), 30: (100, 130, 120), 31: (175, 255, 255), 32: (30, 70, 30), 33: (230, 210, 210), 34: (255, 170, 110), 35: (210, 200, 200), 36: (240, 150, 100), 37: (210, 210, 210), 38: (230, 155, 95), 39: (190, 180, 180), 40: (200, 125, 75), 41: (195, 195, 195), 42: (185, 185, 185), 43: (210, 140, 100), 44: (160, 120, 90), 45: (160, 100, 70), 46: (160, 80, 50), 47: (170, 170, 170), 48: (155, 155, 155), 49: (180, 100, 70), 50: (130, 90, 80), 51: (130, 70, 70), 52: (130, 60, 50), 53: (120, 120, 120), 54: (100, 100, 100), 55: (140, 60, 50), 56: (90, 70, 70), 57: (80, 60, 60), 58: (80, 50, 40), 59: (230, 130, 60), 60: (190, 190, 220), 61: (80, 220, 250), 62: (80, 50, 0), 63: (120, 50, 90), 64: (90, 40, 80), 65: (130, 50, 80), 66: (190, 60, 120), 67: (0, 0, 80), 68: (10, 10, 80), 69: (20, 20, 80), 70: (30, 30, 80), 71: (0, 40, 110), 72: (20, 50, 110), 73: (40, 60, 110), 74: (60, 70, 110), 75: (70, 100, 130), 76: (110, 0, 150), 77: (245, 245, 245), 78: (230, 230, 230), 79: (30, 60, 150), 80: (20, 50, 140), 81: (70, 90, 110), 82: (90, 70, 110), 83: (200, 225, 175), 84: (190, 215, 165), 85: (200, 200, 255), 86: (190, 190, 245), 87: (30, 255, 255), 88: (0, 100, 140), 89: (20, 20, 60), 90: (0, 50, 150), 91: (50, 110, 150), 92: (100, 60, 250), 93: (255, 20, 70), 94: (20, 20, 20), 95: (255, 0, 0), 96: (255, 0, 0), 255: (255, 255, 255)}\n",
      "30\n"
     ]
    }
   ],
   "source": [
    "import csv\n",
    "path = r'C:\\Users\\User\\OneDrive - Université Bretagne Sud\\01_Masters_Thesis\\Project\\legends\\lgd_siam_96.csv'\n",
    "# Open the CSV file\n",
    "with open(path, mode='r') as file:\n",
    "    reader = csv.DictReader(file, delimiter=',')  \n",
    "    rgb_dict = {}\n",
    "    for row in reader:\n",
    "        #print(row)\n",
    "        value = int(row['value'])\n",
    "        rgb = tuple(map(int, row['rgb'][1:-1].split(',')))  # Convert \"(r, g, b)\" string to tuple\n",
    "        rgb_dict[value] = rgb\n",
    "\n",
    "# Print the dictionary\n",
    "print(rgb_dict)\n",
    "for value, rgb in rgb_dict.items():\n",
    "    print(rgb[2])\n",
    "    break\n"
   ]
  },
  {
   "cell_type": "code",
   "execution_count": 3,
   "metadata": {},
   "outputs": [],
   "source": [
    "# modifying class to have only one band in label\n",
    "class SiamDW_DataClass(Dataset):\n",
    "    def __init__(self, data_path, metadata, set, learn_type, process_level, transform=None):\n",
    "    # in metadata dataframe, select patches with set as train \n",
    "        self.data_path = data_path\n",
    "        self.metadata = metadata\n",
    "        self.set = set\n",
    "        self.transform = transform\n",
    "        self.process_level = process_level\n",
    "        self.learn_type = learn_type\n",
    "\n",
    "    def __len__(self):\n",
    "        return len(self.metadata[(self.metadata['set']==self.set) & (self.metadata['learn_type']==self.learn_type)])\n",
    "\n",
    "    def __getitem__(self, idx):\n",
    "        # return tensor pair feature,label\n",
    "        # read image\n",
    "        metadata_set = self.metadata[(self.metadata['set']==self.set) & (self.metadata['learn_type']==self.learn_type)]\n",
    "        feat_fname= (f\"{self.process_level}_\"\n",
    "                      f\"{self.learn_type}_\"\n",
    "                      f\"{metadata_set.iloc[idx, 0]}_\"\n",
    "                      f\"feats.tif\")\n",
    "        label_fname= (f\"{self.process_level}_\"\n",
    "                      f\"{self.learn_type}_\"\n",
    "                      f\"{metadata_set.iloc[idx, 0]}_\"\n",
    "                      f\"label.tif\")\n",
    "\n",
    "        feat_p = os.path.join(self.data_path, feat_fname)\n",
    "        label_p = os.path.join(self.data_path, label_fname)\n",
    "        \n",
    "        with rio.open(feat_p) as src:\n",
    "            feat = src.read().astype(np.int16)\n",
    "        with rio.open(label_p) as src:\n",
    "            label = src.read().astype(np.int16)\n",
    "\n",
    "        # handle dtypes for tensor\n",
    "        feat = torch.from_numpy(feat).to(torch.float32)\n",
    "        label = torch.from_numpy(label).to(torch.float32)\n",
    "        # if self.transform:\n",
    "        #     feat = self.transform(feat)\n",
    "            # label = self.transform(label)\n",
    "        return feat, label[5,:,:].long()"
   ]
  },
  {
   "cell_type": "code",
   "execution_count": null,
   "metadata": {},
   "outputs": [],
   "source": [
    "# data_path = r\"C:\\Users\\User\\OneDrive - Université Bretagne Sud\\01_Masters_Thesis\\Project\\data\\toy\\l1c\\train\"\n",
    "# data_path = data_path.replace(\"\\\\\", \"/\")\n",
    "train_data_path = r\"E:\\Thesis\\toy\\l1c\\train\"\n",
    "test_data_path = r\"E:\\Thesis\\toy\\l1c\\test\"\n",
    "meta_path =  r\"E:\\Thesis\\toy\\meta_patches.csv\"\n",
    "metadata = pd.read_csv(meta_path)"
   ]
  },
  {
   "cell_type": "code",
   "execution_count": 4,
   "metadata": {},
   "outputs": [],
   "source": [
    "batch_size = 4\n",
    "train_dataset = SiamDW_DataClass(train_data_path, metadata, 'train', 'csl','l1c')\n",
    "test_dataset = SiamDW_DataClass(test_data_path, metadata, 'test', 'csl','l1c')\n",
    "\n",
    "train_data = DataLoader(train_dataset, batch_size=batch_size, shuffle=True, drop_last=True)\n",
    "test_data = DataLoader(test_dataset, batch_size=batch_size, shuffle=True, drop_last=True)"
   ]
  },
  {
   "cell_type": "code",
   "execution_count": 8,
   "metadata": {},
   "outputs": [],
   "source": [
    "def train_epoch(model, data, optimizer, criterion, device):\n",
    "    model.train()\n",
    "    running_loss = 0.0\n",
    "    correct_preds = 0\n",
    "    for _,batch in enumerate(tqdm(data, desc='Training', leave=False)): # for each batch\n",
    "        #print(f\"Batch {i}\")\n",
    "        features, labels = batch\n",
    "        features, labels = features.to(device), labels.to(device)\n",
    "        optimizer.zero_grad()\n",
    "        outputs = model(features)\n",
    "        outputs = outputs.view(4,10,-1)\n",
    "        labels = labels.view(4,-1).long()\n",
    "    \n",
    "        loss = criterion(outputs, labels) # loss\n",
    "        loss.backward()\n",
    "        optimizer.step()\n",
    "\n",
    "        # loss and number of correct predictions of the batch\n",
    "        running_loss += loss.item() # loss per batch\n",
    "        preds= torch.argmax(outputs, dim=1)\n",
    "        correct_preds += torch.sum(preds == labels).item()\n",
    "    \n",
    "    avg_loss = running_loss / len(data)\n",
    "    overall_accuracy = correct_preds / (len(data) * batch_size * 510 * 510)\n",
    "    return avg_loss, overall_accuracy \n",
    "\n",
    "def validate_epoch(model, data, criterion, device):\n",
    "    model.eval()\n",
    "    running_loss = 0.0\n",
    "    correct_preds = 0\n",
    "    with torch.no_grad():\n",
    "        #data_with_progress = tqdm(data, desc='Validation', leave=False)\n",
    "\n",
    "        for _,batch in enumerate(tqdm(data, desc='Validation', leave=False)):\n",
    "            features, labels = batch\n",
    "            features, labels = features.to(device), labels.to(device)\n",
    "            outputs = model(features)\n",
    "\n",
    "            labels, outputs = labels.view(4,-1).long(), outputs.view(4,10,-1)\n",
    "            loss = criterion(outputs, labels)\n",
    "            \n",
    "            # loss and number of correct predictions of the batch\n",
    "            running_loss += loss.item()\n",
    "            preds = torch.argmax(outputs, dim=1)\n",
    "            correct_preds += torch.sum(preds == labels).item()\n",
    "\n",
    "    avg_loss = running_loss / len(data)\n",
    "    overall_accuracy = correct_preds / (len(data) * batch_size * 510 * 510)\n",
    "    return avg_loss, overall_accuracy"
   ]
  },
  {
   "cell_type": "code",
   "execution_count": 9,
   "metadata": {},
   "outputs": [],
   "source": [
    "# early stopping, checkpoint\n",
    "def train_model(model, train_data, val_data, optimizer, scheduler, criterion, device, patience,out_model_path, epochs=10):\n",
    "    start = time.time()\n",
    "    model = model.to(device)\n",
    "\n",
    "    min_val_loss = np.inf\n",
    "    train_loss_history = []\n",
    "    val_loss_history = []\n",
    "    train_accuracy_history = []\n",
    "    val_accuracy_history = []\n",
    "\n",
    "    for epoch in range(epochs):\n",
    "        #print(f\"Epoch {epoch+1}/{epochs} started\")\n",
    "        train_epoch_loss, train_epoch_accuracy = train_epoch(model, train_data, optimizer, criterion, device)\n",
    "        val_epoch_loss, val_epoch_accuracy = validate_epoch(model, val_data, criterion, device)\n",
    "        print(f\"Epoch {epoch+1}/{epochs} => Train Loss: {train_epoch_loss:.4f}, Train Accuracy: {train_epoch_accuracy:.4f} , \n",
    "              Val Loss: {val_epoch_loss:.4f}, Val Accuracy: {val_epoch_accuracy:.4f}\")\n",
    "        \n",
    "        train_loss_history.append(train_epoch_loss)\n",
    "        val_loss_history.append(val_epoch_loss)\n",
    "        train_accuracy_history.append(train_epoch_accuracy)\n",
    "        val_accuracy_history.append(val_epoch_accuracy)\n",
    "\n",
    "        patience_counter = 0\n",
    "        if val_epoch_loss < min_val_loss:\n",
    "            min_val_loss = val_epoch_loss\n",
    "            \n",
    "            ckpt = {\n",
    "                    'epoch': epoch,\n",
    "                    'model_state_dict': model.state_dict(),\n",
    "                    'optimizer_state_dict': optimizer.state_dict(),\n",
    "                    'scheduler_state_dict': scheduler.state_dict() if scheduler is not None else None,\n",
    "                    'train_loss_history': train_loss_history,\n",
    "                    'train_accuracy_history': train_accuracy_history,\n",
    "                    'val_loss_history': val_loss_history,\n",
    "                    'val_accuracy_history': val_accuracy_history,\n",
    "                    'loss': min_val_loss\n",
    "                }\n",
    "            torch.save(ckpt, out_model_path)\n",
    "            print(\"Model saved\") # saves the last best model, overwrites the previous best one\n",
    "        else:\n",
    "            patience_counter += 1\n",
    "            if patience_counter == patience:\n",
    "                print(f\"Early stopping at epoch {epoch}\")\n",
    "                break\n",
    "        if scheduler is not None:\n",
    "            scheduler.step(val_epoch_loss)\n",
    "\n",
    "    train_duration = time.time() - start\n",
    "    print(f\"Training completed in {train_duration//60:.0f}m {train_duration % 60:.0f}s\")\n",
    "\n",
    "    return train_loss_history, train_accuracy_history, val_loss_history, val_accuracy_history"
   ]
  },
  {
   "cell_type": "code",
   "execution_count": 10,
   "metadata": {},
   "outputs": [],
   "source": [
    "device = torch.device('cuda' if torch.cuda.is_available() else 'cpu')\n",
    "model = UNet(10, 10)\n",
    "optimizer = torch.optim.Adam(model.parameters(), lr=0.001)\n",
    "scheduler = torch.optim.lr_scheduler.ReduceLROnPlateau(optimizer, mode='min', factor=0.1, patience=5, verbose=True)\n",
    "criterion = torch.nn.CrossEntropyLoss()\n",
    "patience = 5\n",
    "out_model_path = 'model.pth'\n",
    "epochs = 10"
   ]
  },
  {
   "cell_type": "code",
   "execution_count": 2,
   "metadata": {},
   "outputs": [
    {
     "name": "stdout",
     "output_type": "stream",
     "text": [
      "----------------------------------------------------------------\n",
      "        Layer (type)               Output Shape         Param #\n",
      "================================================================\n",
      "            Conv2d-1         [-1, 64, 510, 510]           5,760\n",
      "       BatchNorm2d-2         [-1, 64, 510, 510]             128\n",
      "              ReLU-3         [-1, 64, 510, 510]               0\n",
      "            Conv2d-4         [-1, 64, 510, 510]          36,864\n",
      "       BatchNorm2d-5         [-1, 64, 510, 510]             128\n",
      "              ReLU-6         [-1, 64, 510, 510]               0\n",
      "        DoubleConv-7         [-1, 64, 510, 510]               0\n",
      "         MaxPool2d-8         [-1, 64, 255, 255]               0\n",
      "            Conv2d-9        [-1, 128, 255, 255]          73,728\n",
      "      BatchNorm2d-10        [-1, 128, 255, 255]             256\n",
      "             ReLU-11        [-1, 128, 255, 255]               0\n",
      "           Conv2d-12        [-1, 128, 255, 255]         147,456\n",
      "      BatchNorm2d-13        [-1, 128, 255, 255]             256\n",
      "             ReLU-14        [-1, 128, 255, 255]               0\n",
      "       DoubleConv-15        [-1, 128, 255, 255]               0\n",
      "             Down-16        [-1, 128, 255, 255]               0\n",
      "        MaxPool2d-17        [-1, 128, 127, 127]               0\n",
      "           Conv2d-18        [-1, 256, 127, 127]         294,912\n",
      "      BatchNorm2d-19        [-1, 256, 127, 127]             512\n",
      "             ReLU-20        [-1, 256, 127, 127]               0\n",
      "           Conv2d-21        [-1, 256, 127, 127]         589,824\n",
      "      BatchNorm2d-22        [-1, 256, 127, 127]             512\n",
      "             ReLU-23        [-1, 256, 127, 127]               0\n",
      "       DoubleConv-24        [-1, 256, 127, 127]               0\n",
      "             Down-25        [-1, 256, 127, 127]               0\n",
      "        MaxPool2d-26          [-1, 256, 63, 63]               0\n",
      "           Conv2d-27          [-1, 512, 63, 63]       1,179,648\n",
      "      BatchNorm2d-28          [-1, 512, 63, 63]           1,024\n",
      "             ReLU-29          [-1, 512, 63, 63]               0\n",
      "           Conv2d-30          [-1, 512, 63, 63]       2,359,296\n",
      "      BatchNorm2d-31          [-1, 512, 63, 63]           1,024\n",
      "             ReLU-32          [-1, 512, 63, 63]               0\n",
      "       DoubleConv-33          [-1, 512, 63, 63]               0\n",
      "             Down-34          [-1, 512, 63, 63]               0\n",
      "        MaxPool2d-35          [-1, 512, 31, 31]               0\n",
      "           Conv2d-36         [-1, 1024, 31, 31]       4,718,592\n",
      "      BatchNorm2d-37         [-1, 1024, 31, 31]           2,048\n",
      "             ReLU-38         [-1, 1024, 31, 31]               0\n",
      "           Conv2d-39         [-1, 1024, 31, 31]       9,437,184\n",
      "      BatchNorm2d-40         [-1, 1024, 31, 31]           2,048\n",
      "             ReLU-41         [-1, 1024, 31, 31]               0\n",
      "       DoubleConv-42         [-1, 1024, 31, 31]               0\n",
      "             Down-43         [-1, 1024, 31, 31]               0\n",
      "  ConvTranspose2d-44          [-1, 512, 62, 62]       2,097,664\n",
      "           Conv2d-45          [-1, 512, 63, 63]       4,718,592\n",
      "      BatchNorm2d-46          [-1, 512, 63, 63]           1,024\n",
      "             ReLU-47          [-1, 512, 63, 63]               0\n",
      "           Conv2d-48          [-1, 512, 63, 63]       2,359,296\n",
      "      BatchNorm2d-49          [-1, 512, 63, 63]           1,024\n",
      "             ReLU-50          [-1, 512, 63, 63]               0\n",
      "       DoubleConv-51          [-1, 512, 63, 63]               0\n",
      "               Up-52          [-1, 512, 63, 63]               0\n",
      "  ConvTranspose2d-53        [-1, 256, 126, 126]         524,544\n",
      "           Conv2d-54        [-1, 256, 127, 127]       1,179,648\n",
      "      BatchNorm2d-55        [-1, 256, 127, 127]             512\n",
      "             ReLU-56        [-1, 256, 127, 127]               0\n",
      "           Conv2d-57        [-1, 256, 127, 127]         589,824\n",
      "      BatchNorm2d-58        [-1, 256, 127, 127]             512\n",
      "             ReLU-59        [-1, 256, 127, 127]               0\n",
      "       DoubleConv-60        [-1, 256, 127, 127]               0\n",
      "               Up-61        [-1, 256, 127, 127]               0\n",
      "  ConvTranspose2d-62        [-1, 128, 254, 254]         131,200\n",
      "           Conv2d-63        [-1, 128, 255, 255]         294,912\n",
      "      BatchNorm2d-64        [-1, 128, 255, 255]             256\n",
      "             ReLU-65        [-1, 128, 255, 255]               0\n",
      "           Conv2d-66        [-1, 128, 255, 255]         147,456\n",
      "      BatchNorm2d-67        [-1, 128, 255, 255]             256\n",
      "             ReLU-68        [-1, 128, 255, 255]               0\n",
      "       DoubleConv-69        [-1, 128, 255, 255]               0\n",
      "               Up-70        [-1, 128, 255, 255]               0\n",
      "  ConvTranspose2d-71         [-1, 64, 510, 510]          32,832\n",
      "           Conv2d-72         [-1, 64, 510, 510]          73,728\n",
      "      BatchNorm2d-73         [-1, 64, 510, 510]             128\n",
      "             ReLU-74         [-1, 64, 510, 510]               0\n",
      "           Conv2d-75         [-1, 64, 510, 510]          36,864\n",
      "      BatchNorm2d-76         [-1, 64, 510, 510]             128\n",
      "             ReLU-77         [-1, 64, 510, 510]               0\n",
      "       DoubleConv-78         [-1, 64, 510, 510]               0\n",
      "               Up-79         [-1, 64, 510, 510]               0\n",
      "           Conv2d-80         [-1, 10, 510, 510]             650\n",
      "          OutConv-81         [-1, 10, 510, 510]               0\n",
      "================================================================\n",
      "Total params: 31,042,250\n",
      "Trainable params: 31,042,250\n",
      "Non-trainable params: 0\n",
      "----------------------------------------------------------------\n",
      "Input size (MB): 9.92\n",
      "Forward/backward pass size (MB): 4067.93\n",
      "Params size (MB): 118.42\n",
      "Estimated Total Size (MB): 4196.26\n",
      "----------------------------------------------------------------\n"
     ]
    }
   ],
   "source": [
    "model = UNet(10, 10)\n",
    "summary(model, (10, 510, 510))"
   ]
  },
  {
   "cell_type": "code",
   "execution_count": null,
   "metadata": {},
   "outputs": [],
   "source": []
  },
  {
   "cell_type": "code",
   "execution_count": null,
   "metadata": {},
   "outputs": [],
   "source": [
    "train_loss_history, train_accuracy_history, val_loss_history, val_accuracy_history = train_model(model, train_data, test_data, optimizer, scheduler, \n",
    "                                                   criterion, device, patience, out_model_path, epochs)"
   ]
  },
  {
   "cell_type": "code",
   "execution_count": 12,
   "metadata": {},
   "outputs": [
    {
     "data": {
      "image/png": "[encoded data removed]",
      "text/plain": [
       "<Figure size 640x480 with 1 Axes>"
      ]
     },
     "metadata": {},
     "output_type": "display_data"
    }
   ],
   "source": [
    "#load model\n",
    "ckpt = torch.load(out_model_path)\n",
    "val = ckpt['val_loss_history']\n",
    "train = ckpt['train_loss_history']\n",
    "\n",
    "plt.plot(val, label='Validation Loss')\n",
    "plt.plot(train, label='Training Loss')\n",
    "plt.legend()\n",
    "plt.show()"
   ]
  },
  {
   "cell_type": "code",
   "execution_count": null,
   "metadata": {},
   "outputs": [],
   "source": [
    "# horizontal subplots of the accuracy and loss\n",
    "fig, axs = plt.subplots(1, 2, figsize=(10, 5))\n",
    "axs[0].plot(val_accuracy_history, label='Validation Accuracy')\n",
    "axs[0].plot(train_accuracy_history, label='Training Accuracy')\n",
    "axs[0].set_title('Accuracy')\n",
    "axs[0].legend()\n",
    "\n",
    "axs[1].plot(val_loss_history, label='Validation Loss')\n",
    "axs[1].plot(train_loss_history, label='Training Loss')\n",
    "axs[1].set_title('Loss')\n",
    "axs[1].legend()\n",
    "\n",
    "plt.show()"
   ]
  },
  {
   "cell_type": "code",
   "execution_count": 13,
   "metadata": {},
   "outputs": [
    {
     "data": {
      "text/plain": [
       "[<matplotlib.lines.Line2D at 0x20a595971d0>]"
      ]
     },
     "execution_count": 13,
     "metadata": {},
     "output_type": "execute_result"
    },
    {
     "data": {
      "image/png": "[encoded data removed]",
      "text/plain": [
       "<Figure size 640x480 with 1 Axes>"
      ]
     },
     "metadata": {},
     "output_type": "display_data"
    }
   ],
   "source": [
    "plt.plot(train)"
   ]
  }
 ],
 "metadata": {
  "kernelspec": {
   "display_name": "base",
   "language": "python",
   "name": "python3"
  },
  "language_info": {
   "codemirror_mode": {
    "name": "ipython",
    "version": 3
   },
   "file_extension": ".py",
   "mimetype": "text/x-python",
   "name": "python",
   "nbconvert_exporter": "python",
   "pygments_lexer": "ipython3",
   "version": "3.11.4"
  }
 },
 "nbformat": 4,
 "nbformat_minor": 2
}
